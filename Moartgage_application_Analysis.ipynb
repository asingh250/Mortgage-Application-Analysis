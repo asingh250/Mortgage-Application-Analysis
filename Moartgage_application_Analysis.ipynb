{
  "nbformat": 4,
  "nbformat_minor": 0,
  "metadata": {
    "colab": {
      "name": "Moartgage application Analysis.ipynb",
      "provenance": [],
      "collapsed_sections": []
    },
    "kernelspec": {
      "name": "python3",
      "display_name": "Python 3"
    },
    "language_info": {
      "name": "python"
    }
  },
  "cells": [
    {
      "cell_type": "code",
      "execution_count": null,
      "metadata": {
        "id": "cMMt1fwaG3A6"
      },
      "outputs": [],
      "source": [
        "#importing libraries for data manupulation, extraction, visualization\n",
        "import pandas as pd\n",
        "import numpy as np\n",
        "import matplotlib.pyplot as plt\n",
        "%matplotlib inline\n",
        "import seaborn as sns\n",
        "sns.set(style=\"white\", color_codes=True)\n",
        "data = pd.read_csv(\"/content/train.csv\")\n"
      ]
    },
    {
      "cell_type": "code",
      "source": [
        "print(data)"
      ],
      "metadata": {
        "id": "0DGMVIiTP_2b",
        "colab": {
          "base_uri": "https://localhost:8080/"
        },
        "outputId": "03dd6d2e-86a0-4c40-b207-a31c21eb0d81"
      },
      "execution_count": null,
      "outputs": [
        {
          "output_type": "stream",
          "name": "stdout",
          "text": [
            "       applicant_age  income  ...       occupancy_type  accepted\n",
            "0              45-54    26.0  ...  Principal residence         0\n",
            "1              55-64   379.0  ...  Principal residence         0\n",
            "2              45-54    86.0  ...  Principal residence         1\n",
            "3              55-64    25.0  ...  Principal residence         1\n",
            "4              65-74    33.0  ...  Principal residence         1\n",
            "...              ...     ...  ...                  ...       ...\n",
            "136256         55-64   330.0  ...  Investment property         0\n",
            "136257         55-64   138.0  ...  Principal residence         1\n",
            "136258         35-44   106.0  ...  Principal residence         0\n",
            "136259         25-34    91.0  ...  Principal residence         1\n",
            "136260         25-34   127.0  ...  Principal residence         1\n",
            "\n",
            "[136261 rows x 6 columns]\n"
          ]
        }
      ]
    },
    {
      "cell_type": "code",
      "source": [
        "#getting the data types\n",
        "data.info()"
      ],
      "metadata": {
        "id": "3MeNO6jvRc1k",
        "colab": {
          "base_uri": "https://localhost:8080/"
        },
        "outputId": "b537b7e9-7ecb-40e6-f5ff-30f497a2da56"
      },
      "execution_count": null,
      "outputs": [
        {
          "output_type": "stream",
          "name": "stdout",
          "text": [
            "<class 'pandas.core.frame.DataFrame'>\n",
            "RangeIndex: 136261 entries, 0 to 136260\n",
            "Data columns (total 6 columns):\n",
            " #   Column                Non-Null Count   Dtype  \n",
            "---  ------                --------------   -----  \n",
            " 0   applicant_age         136261 non-null  object \n",
            " 1   income                135228 non-null  float64\n",
            " 2   debt_to_income_ratio  133472 non-null  object \n",
            " 3   loan_amount           136261 non-null  int64  \n",
            " 4   occupancy_type        136261 non-null  object \n",
            " 5   accepted              136261 non-null  int64  \n",
            "dtypes: float64(1), int64(2), object(3)\n",
            "memory usage: 6.2+ MB\n"
          ]
        }
      ]
    },
    {
      "cell_type": "code",
      "source": [
        "data.head()"
      ],
      "metadata": {
        "id": "XI-NQGrAQSyg",
        "colab": {
          "base_uri": "https://localhost:8080/",
          "height": 206
        },
        "outputId": "78b79ce1-cc6e-4bee-88f1-0575aac2786f"
      },
      "execution_count": null,
      "outputs": [
        {
          "output_type": "execute_result",
          "data": {
            "text/html": [
              "\n",
              "  <div id=\"df-b59114de-62fe-4cf3-b1f8-c10e4b28c3f5\">\n",
              "    <div class=\"colab-df-container\">\n",
              "      <div>\n",
              "<style scoped>\n",
              "    .dataframe tbody tr th:only-of-type {\n",
              "        vertical-align: middle;\n",
              "    }\n",
              "\n",
              "    .dataframe tbody tr th {\n",
              "        vertical-align: top;\n",
              "    }\n",
              "\n",
              "    .dataframe thead th {\n",
              "        text-align: right;\n",
              "    }\n",
              "</style>\n",
              "<table border=\"1\" class=\"dataframe\">\n",
              "  <thead>\n",
              "    <tr style=\"text-align: right;\">\n",
              "      <th></th>\n",
              "      <th>applicant_age</th>\n",
              "      <th>income</th>\n",
              "      <th>debt_to_income_ratio</th>\n",
              "      <th>loan_amount</th>\n",
              "      <th>occupancy_type</th>\n",
              "      <th>accepted</th>\n",
              "    </tr>\n",
              "  </thead>\n",
              "  <tbody>\n",
              "    <tr>\n",
              "      <th>0</th>\n",
              "      <td>45-54</td>\n",
              "      <td>26.0</td>\n",
              "      <td>&gt;60%</td>\n",
              "      <td>95000</td>\n",
              "      <td>Principal residence</td>\n",
              "      <td>0</td>\n",
              "    </tr>\n",
              "    <tr>\n",
              "      <th>1</th>\n",
              "      <td>55-64</td>\n",
              "      <td>379.0</td>\n",
              "      <td>&gt;60%</td>\n",
              "      <td>3225000</td>\n",
              "      <td>Principal residence</td>\n",
              "      <td>0</td>\n",
              "    </tr>\n",
              "    <tr>\n",
              "      <th>2</th>\n",
              "      <td>45-54</td>\n",
              "      <td>86.0</td>\n",
              "      <td>41%-&lt;46%</td>\n",
              "      <td>105000</td>\n",
              "      <td>Principal residence</td>\n",
              "      <td>1</td>\n",
              "    </tr>\n",
              "    <tr>\n",
              "      <th>3</th>\n",
              "      <td>55-64</td>\n",
              "      <td>25.0</td>\n",
              "      <td>36%-&lt;41%</td>\n",
              "      <td>65000</td>\n",
              "      <td>Principal residence</td>\n",
              "      <td>1</td>\n",
              "    </tr>\n",
              "    <tr>\n",
              "      <th>4</th>\n",
              "      <td>65-74</td>\n",
              "      <td>33.0</td>\n",
              "      <td>20%-&lt;30%</td>\n",
              "      <td>75000</td>\n",
              "      <td>Principal residence</td>\n",
              "      <td>1</td>\n",
              "    </tr>\n",
              "  </tbody>\n",
              "</table>\n",
              "</div>\n",
              "      <button class=\"colab-df-convert\" onclick=\"convertToInteractive('df-b59114de-62fe-4cf3-b1f8-c10e4b28c3f5')\"\n",
              "              title=\"Convert this dataframe to an interactive table.\"\n",
              "              style=\"display:none;\">\n",
              "        \n",
              "  <svg xmlns=\"http://www.w3.org/2000/svg\" height=\"24px\"viewBox=\"0 0 24 24\"\n",
              "       width=\"24px\">\n",
              "    <path d=\"M0 0h24v24H0V0z\" fill=\"none\"/>\n",
              "    <path d=\"M18.56 5.44l.94 2.06.94-2.06 2.06-.94-2.06-.94-.94-2.06-.94 2.06-2.06.94zm-11 1L8.5 8.5l.94-2.06 2.06-.94-2.06-.94L8.5 2.5l-.94 2.06-2.06.94zm10 10l.94 2.06.94-2.06 2.06-.94-2.06-.94-.94-2.06-.94 2.06-2.06.94z\"/><path d=\"M17.41 7.96l-1.37-1.37c-.4-.4-.92-.59-1.43-.59-.52 0-1.04.2-1.43.59L10.3 9.45l-7.72 7.72c-.78.78-.78 2.05 0 2.83L4 21.41c.39.39.9.59 1.41.59.51 0 1.02-.2 1.41-.59l7.78-7.78 2.81-2.81c.8-.78.8-2.07 0-2.86zM5.41 20L4 18.59l7.72-7.72 1.47 1.35L5.41 20z\"/>\n",
              "  </svg>\n",
              "      </button>\n",
              "      \n",
              "  <style>\n",
              "    .colab-df-container {\n",
              "      display:flex;\n",
              "      flex-wrap:wrap;\n",
              "      gap: 12px;\n",
              "    }\n",
              "\n",
              "    .colab-df-convert {\n",
              "      background-color: #E8F0FE;\n",
              "      border: none;\n",
              "      border-radius: 50%;\n",
              "      cursor: pointer;\n",
              "      display: none;\n",
              "      fill: #1967D2;\n",
              "      height: 32px;\n",
              "      padding: 0 0 0 0;\n",
              "      width: 32px;\n",
              "    }\n",
              "\n",
              "    .colab-df-convert:hover {\n",
              "      background-color: #E2EBFA;\n",
              "      box-shadow: 0px 1px 2px rgba(60, 64, 67, 0.3), 0px 1px 3px 1px rgba(60, 64, 67, 0.15);\n",
              "      fill: #174EA6;\n",
              "    }\n",
              "\n",
              "    [theme=dark] .colab-df-convert {\n",
              "      background-color: #3B4455;\n",
              "      fill: #D2E3FC;\n",
              "    }\n",
              "\n",
              "    [theme=dark] .colab-df-convert:hover {\n",
              "      background-color: #434B5C;\n",
              "      box-shadow: 0px 1px 3px 1px rgba(0, 0, 0, 0.15);\n",
              "      filter: drop-shadow(0px 1px 2px rgba(0, 0, 0, 0.3));\n",
              "      fill: #FFFFFF;\n",
              "    }\n",
              "  </style>\n",
              "\n",
              "      <script>\n",
              "        const buttonEl =\n",
              "          document.querySelector('#df-b59114de-62fe-4cf3-b1f8-c10e4b28c3f5 button.colab-df-convert');\n",
              "        buttonEl.style.display =\n",
              "          google.colab.kernel.accessAllowed ? 'block' : 'none';\n",
              "\n",
              "        async function convertToInteractive(key) {\n",
              "          const element = document.querySelector('#df-b59114de-62fe-4cf3-b1f8-c10e4b28c3f5');\n",
              "          const dataTable =\n",
              "            await google.colab.kernel.invokeFunction('convertToInteractive',\n",
              "                                                     [key], {});\n",
              "          if (!dataTable) return;\n",
              "\n",
              "          const docLinkHtml = 'Like what you see? Visit the ' +\n",
              "            '<a target=\"_blank\" href=https://colab.research.google.com/notebooks/data_table.ipynb>data table notebook</a>'\n",
              "            + ' to learn more about interactive tables.';\n",
              "          element.innerHTML = '';\n",
              "          dataTable['output_type'] = 'display_data';\n",
              "          await google.colab.output.renderOutput(dataTable, element);\n",
              "          const docLink = document.createElement('div');\n",
              "          docLink.innerHTML = docLinkHtml;\n",
              "          element.appendChild(docLink);\n",
              "        }\n",
              "      </script>\n",
              "    </div>\n",
              "  </div>\n",
              "  "
            ],
            "text/plain": [
              "  applicant_age  income  ...       occupancy_type  accepted\n",
              "0         45-54    26.0  ...  Principal residence         0\n",
              "1         55-64   379.0  ...  Principal residence         0\n",
              "2         45-54    86.0  ...  Principal residence         1\n",
              "3         55-64    25.0  ...  Principal residence         1\n",
              "4         65-74    33.0  ...  Principal residence         1\n",
              "\n",
              "[5 rows x 6 columns]"
            ]
          },
          "metadata": {},
          "execution_count": 123
        }
      ]
    },
    {
      "cell_type": "code",
      "source": [
        ""
      ],
      "metadata": {
        "id": "JRfYMrgpfRWj"
      },
      "execution_count": null,
      "outputs": []
    },
    {
      "cell_type": "code",
      "source": [
        "#printing null entries in the dataset\n",
        "data.isna().sum()"
      ],
      "metadata": {
        "id": "1UmG2ydQHY_8",
        "colab": {
          "base_uri": "https://localhost:8080/"
        },
        "outputId": "51413ee7-7d41-4a3c-a4a2-8bac0464733f"
      },
      "execution_count": null,
      "outputs": [
        {
          "output_type": "execute_result",
          "data": {
            "text/plain": [
              "applicant_age              0\n",
              "income                  1033\n",
              "debt_to_income_ratio    2789\n",
              "loan_amount                0\n",
              "occupancy_type             0\n",
              "accepted                   0\n",
              "dtype: int64"
            ]
          },
          "metadata": {},
          "execution_count": 124
        }
      ]
    },
    {
      "cell_type": "markdown",
      "source": [
        "**Cleaning**"
      ],
      "metadata": {
        "id": "xw1ldSfrJEBL"
      }
    },
    {
      "cell_type": "code",
      "source": [
        "#dropping the null entries\n",
        "data.dropna(inplace=True)\n",
        "print(data)"
      ],
      "metadata": {
        "id": "FC_G7KlFJG5l",
        "colab": {
          "base_uri": "https://localhost:8080/"
        },
        "outputId": "00c51162-2ac7-4bfa-a015-769b608839cb"
      },
      "execution_count": null,
      "outputs": [
        {
          "output_type": "stream",
          "name": "stdout",
          "text": [
            "       applicant_age  income  ...       occupancy_type  accepted\n",
            "0              45-54    26.0  ...  Principal residence         0\n",
            "1              55-64   379.0  ...  Principal residence         0\n",
            "2              45-54    86.0  ...  Principal residence         1\n",
            "3              55-64    25.0  ...  Principal residence         1\n",
            "4              65-74    33.0  ...  Principal residence         1\n",
            "...              ...     ...  ...                  ...       ...\n",
            "136256         55-64   330.0  ...  Investment property         0\n",
            "136257         55-64   138.0  ...  Principal residence         1\n",
            "136258         35-44   106.0  ...  Principal residence         0\n",
            "136259         25-34    91.0  ...  Principal residence         1\n",
            "136260         25-34   127.0  ...  Principal residence         1\n",
            "\n",
            "[132764 rows x 6 columns]\n"
          ]
        }
      ]
    },
    {
      "cell_type": "code",
      "source": [
        "#extracting the independent variables from the dataset \n",
        "x= data.iloc[:, :-1]\n",
        "print(x)\n"
      ],
      "metadata": {
        "id": "wckzYt3kOtzT",
        "colab": {
          "base_uri": "https://localhost:8080/"
        },
        "outputId": "7b007caf-5005-471c-d0a8-b3e413724655"
      },
      "execution_count": null,
      "outputs": [
        {
          "output_type": "stream",
          "name": "stdout",
          "text": [
            "       applicant_age  income  ... loan_amount       occupancy_type\n",
            "0              45-54    26.0  ...       95000  Principal residence\n",
            "1              55-64   379.0  ...     3225000  Principal residence\n",
            "2              45-54    86.0  ...      105000  Principal residence\n",
            "3              55-64    25.0  ...       65000  Principal residence\n",
            "4              65-74    33.0  ...       75000  Principal residence\n",
            "...              ...     ...  ...         ...                  ...\n",
            "136256         55-64   330.0  ...      245000  Investment property\n",
            "136257         55-64   138.0  ...      255000  Principal residence\n",
            "136258         35-44   106.0  ...      135000  Principal residence\n",
            "136259         25-34    91.0  ...      215000  Principal residence\n",
            "136260         25-34   127.0  ...      235000  Principal residence\n",
            "\n",
            "[132764 rows x 5 columns]\n"
          ]
        }
      ]
    },
    {
      "cell_type": "code",
      "source": [
        "#extracting the dependent variable from the dataset\n",
        "y = data.iloc[:, -1]\n",
        "print(y)"
      ],
      "metadata": {
        "id": "1V2MGkkd0Lo3",
        "colab": {
          "base_uri": "https://localhost:8080/"
        },
        "outputId": "7c195f6f-a21b-4e4a-9978-c92803b545b8"
      },
      "execution_count": null,
      "outputs": [
        {
          "output_type": "stream",
          "name": "stdout",
          "text": [
            "0         0\n",
            "1         0\n",
            "2         1\n",
            "3         1\n",
            "4         1\n",
            "         ..\n",
            "136256    0\n",
            "136257    1\n",
            "136258    0\n",
            "136259    1\n",
            "136260    1\n",
            "Name: accepted, Length: 132764, dtype: int64\n"
          ]
        }
      ]
    },
    {
      "cell_type": "code",
      "source": [
        "#importing the encoding libraries\n",
        "#we can classify the varibles into ordered classification, so we process the continuous data which is in ordered list and encode ito into discrete numeric data \n",
        "from sklearn.preprocessing import OrdinalEncoder"
      ],
      "metadata": {
        "id": "o8qKKoS90du9"
      },
      "execution_count": null,
      "outputs": []
    },
    {
      "cell_type": "code",
      "source": [
        "data['applicant_age'].unique()"
      ],
      "metadata": {
        "id": "IVwaYcgCFVg2",
        "colab": {
          "base_uri": "https://localhost:8080/"
        },
        "outputId": "ad4e4d89-c752-4087-e894-b1117553d1fd"
      },
      "execution_count": null,
      "outputs": [
        {
          "output_type": "execute_result",
          "data": {
            "text/plain": [
              "array(['45-54', '55-64', '65-74', '25-34', '35-44', '>74', '<25'],\n",
              "      dtype=object)"
            ]
          },
          "metadata": {},
          "execution_count": 129
        }
      ]
    },
    {
      "cell_type": "code",
      "source": [
        "age_sort = ['<25', '25-34', '35-44', '45-54','55-64', '65-74','>74']\n",
        "age_enc = OrdinalEncoder(categories=[age_sort])"
      ],
      "metadata": {
        "id": "Su3B0myJFekR"
      },
      "execution_count": null,
      "outputs": []
    },
    {
      "cell_type": "code",
      "source": [
        "data['applicant_age']= age_enc.fit_transform(data['applicant_age'].values.reshape(-1,1))"
      ],
      "metadata": {
        "id": "qLvdOZtbGSQr"
      },
      "execution_count": null,
      "outputs": []
    },
    {
      "cell_type": "code",
      "source": [
        "data['applicant_age'].value_counts()"
      ],
      "metadata": {
        "id": "shmWZeM_HS2V",
        "colab": {
          "base_uri": "https://localhost:8080/"
        },
        "outputId": "c79f6ca2-cca1-43ca-91e0-4cf8946bb0c4"
      },
      "execution_count": null,
      "outputs": [
        {
          "output_type": "execute_result",
          "data": {
            "text/plain": [
              "1.0    46928\n",
              "2.0    38628\n",
              "3.0    23154\n",
              "4.0    12269\n",
              "0.0     6124\n",
              "5.0     4622\n",
              "6.0     1039\n",
              "Name: applicant_age, dtype: int64"
            ]
          },
          "metadata": {},
          "execution_count": 132
        }
      ]
    },
    {
      "cell_type": "code",
      "source": [
        "data['debt_to_income_ratio'].unique()"
      ],
      "metadata": {
        "id": "6ssx7yUjJi1x",
        "colab": {
          "base_uri": "https://localhost:8080/"
        },
        "outputId": "01f27474-4347-48d4-8835-e66823eefdd7"
      },
      "execution_count": null,
      "outputs": [
        {
          "output_type": "execute_result",
          "data": {
            "text/plain": [
              "array(['>60%', '41%-<46%', '36%-<41%', '20%-<30%', '46%-<50%', '30%-<36%',\n",
              "       '<20%', '50%-60%'], dtype=object)"
            ]
          },
          "metadata": {},
          "execution_count": 133
        }
      ]
    },
    {
      "cell_type": "code",
      "source": [
        "debt_to_income_ratio_sort= ['<20%','20%-<30%','30%-<36%','36%-<41%','41%-<46%','46%-<50%','50%-60%','>60%']\n",
        "debt_to_income_ratio_enc = OrdinalEncoder(categories=[debt_to_income_ratio_sort])"
      ],
      "metadata": {
        "id": "6CwIh0llTd4o"
      },
      "execution_count": null,
      "outputs": []
    },
    {
      "cell_type": "code",
      "source": [
        "data['debt_to_income_ratio']= debt_to_income_ratio_enc.fit_transform(data['debt_to_income_ratio'].values.reshape(-1,1))"
      ],
      "metadata": {
        "id": "MvfSdpeWUQdV"
      },
      "execution_count": null,
      "outputs": []
    },
    {
      "cell_type": "code",
      "source": [
        "data['debt_to_income_ratio'].value_counts()"
      ],
      "metadata": {
        "id": "44E39yR3VOto",
        "colab": {
          "base_uri": "https://localhost:8080/"
        },
        "outputId": "9cb702e8-532d-4511-fdc5-944c7d9a22c7"
      },
      "execution_count": null,
      "outputs": [
        {
          "output_type": "execute_result",
          "data": {
            "text/plain": [
              "4.0    25943\n",
              "3.0    22524\n",
              "2.0    20724\n",
              "1.0    19985\n",
              "5.0    17490\n",
              "6.0    15933\n",
              "0.0     6024\n",
              "7.0     4141\n",
              "Name: debt_to_income_ratio, dtype: int64"
            ]
          },
          "metadata": {},
          "execution_count": 136
        }
      ]
    },
    {
      "cell_type": "markdown",
      "source": [
        "**One - Hot Encoding**"
      ],
      "metadata": {
        "id": "CUyLCHNjIRKu"
      }
    },
    {
      "cell_type": "code",
      "source": [
        "#this type of encoding is used to convert values which is unique, into numeric data \n",
        "dummies = pd.get_dummies(data['occupancy_type'])\n",
        "dummies.head()"
      ],
      "metadata": {
        "id": "aCKcx3UQIbhg",
        "colab": {
          "base_uri": "https://localhost:8080/",
          "height": 206
        },
        "outputId": "feb18d4b-c023-403c-954c-a1048b7ad5aa"
      },
      "execution_count": null,
      "outputs": [
        {
          "output_type": "execute_result",
          "data": {
            "text/html": [
              "\n",
              "  <div id=\"df-10d14c13-ac78-4f29-94fc-d2998487f722\">\n",
              "    <div class=\"colab-df-container\">\n",
              "      <div>\n",
              "<style scoped>\n",
              "    .dataframe tbody tr th:only-of-type {\n",
              "        vertical-align: middle;\n",
              "    }\n",
              "\n",
              "    .dataframe tbody tr th {\n",
              "        vertical-align: top;\n",
              "    }\n",
              "\n",
              "    .dataframe thead th {\n",
              "        text-align: right;\n",
              "    }\n",
              "</style>\n",
              "<table border=\"1\" class=\"dataframe\">\n",
              "  <thead>\n",
              "    <tr style=\"text-align: right;\">\n",
              "      <th></th>\n",
              "      <th>Investment property</th>\n",
              "      <th>Principal residence</th>\n",
              "      <th>Second residence</th>\n",
              "    </tr>\n",
              "  </thead>\n",
              "  <tbody>\n",
              "    <tr>\n",
              "      <th>0</th>\n",
              "      <td>0</td>\n",
              "      <td>1</td>\n",
              "      <td>0</td>\n",
              "    </tr>\n",
              "    <tr>\n",
              "      <th>1</th>\n",
              "      <td>0</td>\n",
              "      <td>1</td>\n",
              "      <td>0</td>\n",
              "    </tr>\n",
              "    <tr>\n",
              "      <th>2</th>\n",
              "      <td>0</td>\n",
              "      <td>1</td>\n",
              "      <td>0</td>\n",
              "    </tr>\n",
              "    <tr>\n",
              "      <th>3</th>\n",
              "      <td>0</td>\n",
              "      <td>1</td>\n",
              "      <td>0</td>\n",
              "    </tr>\n",
              "    <tr>\n",
              "      <th>4</th>\n",
              "      <td>0</td>\n",
              "      <td>1</td>\n",
              "      <td>0</td>\n",
              "    </tr>\n",
              "  </tbody>\n",
              "</table>\n",
              "</div>\n",
              "      <button class=\"colab-df-convert\" onclick=\"convertToInteractive('df-10d14c13-ac78-4f29-94fc-d2998487f722')\"\n",
              "              title=\"Convert this dataframe to an interactive table.\"\n",
              "              style=\"display:none;\">\n",
              "        \n",
              "  <svg xmlns=\"http://www.w3.org/2000/svg\" height=\"24px\"viewBox=\"0 0 24 24\"\n",
              "       width=\"24px\">\n",
              "    <path d=\"M0 0h24v24H0V0z\" fill=\"none\"/>\n",
              "    <path d=\"M18.56 5.44l.94 2.06.94-2.06 2.06-.94-2.06-.94-.94-2.06-.94 2.06-2.06.94zm-11 1L8.5 8.5l.94-2.06 2.06-.94-2.06-.94L8.5 2.5l-.94 2.06-2.06.94zm10 10l.94 2.06.94-2.06 2.06-.94-2.06-.94-.94-2.06-.94 2.06-2.06.94z\"/><path d=\"M17.41 7.96l-1.37-1.37c-.4-.4-.92-.59-1.43-.59-.52 0-1.04.2-1.43.59L10.3 9.45l-7.72 7.72c-.78.78-.78 2.05 0 2.83L4 21.41c.39.39.9.59 1.41.59.51 0 1.02-.2 1.41-.59l7.78-7.78 2.81-2.81c.8-.78.8-2.07 0-2.86zM5.41 20L4 18.59l7.72-7.72 1.47 1.35L5.41 20z\"/>\n",
              "  </svg>\n",
              "      </button>\n",
              "      \n",
              "  <style>\n",
              "    .colab-df-container {\n",
              "      display:flex;\n",
              "      flex-wrap:wrap;\n",
              "      gap: 12px;\n",
              "    }\n",
              "\n",
              "    .colab-df-convert {\n",
              "      background-color: #E8F0FE;\n",
              "      border: none;\n",
              "      border-radius: 50%;\n",
              "      cursor: pointer;\n",
              "      display: none;\n",
              "      fill: #1967D2;\n",
              "      height: 32px;\n",
              "      padding: 0 0 0 0;\n",
              "      width: 32px;\n",
              "    }\n",
              "\n",
              "    .colab-df-convert:hover {\n",
              "      background-color: #E2EBFA;\n",
              "      box-shadow: 0px 1px 2px rgba(60, 64, 67, 0.3), 0px 1px 3px 1px rgba(60, 64, 67, 0.15);\n",
              "      fill: #174EA6;\n",
              "    }\n",
              "\n",
              "    [theme=dark] .colab-df-convert {\n",
              "      background-color: #3B4455;\n",
              "      fill: #D2E3FC;\n",
              "    }\n",
              "\n",
              "    [theme=dark] .colab-df-convert:hover {\n",
              "      background-color: #434B5C;\n",
              "      box-shadow: 0px 1px 3px 1px rgba(0, 0, 0, 0.15);\n",
              "      filter: drop-shadow(0px 1px 2px rgba(0, 0, 0, 0.3));\n",
              "      fill: #FFFFFF;\n",
              "    }\n",
              "  </style>\n",
              "\n",
              "      <script>\n",
              "        const buttonEl =\n",
              "          document.querySelector('#df-10d14c13-ac78-4f29-94fc-d2998487f722 button.colab-df-convert');\n",
              "        buttonEl.style.display =\n",
              "          google.colab.kernel.accessAllowed ? 'block' : 'none';\n",
              "\n",
              "        async function convertToInteractive(key) {\n",
              "          const element = document.querySelector('#df-10d14c13-ac78-4f29-94fc-d2998487f722');\n",
              "          const dataTable =\n",
              "            await google.colab.kernel.invokeFunction('convertToInteractive',\n",
              "                                                     [key], {});\n",
              "          if (!dataTable) return;\n",
              "\n",
              "          const docLinkHtml = 'Like what you see? Visit the ' +\n",
              "            '<a target=\"_blank\" href=https://colab.research.google.com/notebooks/data_table.ipynb>data table notebook</a>'\n",
              "            + ' to learn more about interactive tables.';\n",
              "          element.innerHTML = '';\n",
              "          dataTable['output_type'] = 'display_data';\n",
              "          await google.colab.output.renderOutput(dataTable, element);\n",
              "          const docLink = document.createElement('div');\n",
              "          docLink.innerHTML = docLinkHtml;\n",
              "          element.appendChild(docLink);\n",
              "        }\n",
              "      </script>\n",
              "    </div>\n",
              "  </div>\n",
              "  "
            ],
            "text/plain": [
              "   Investment property  Principal residence  Second residence\n",
              "0                    0                    1                 0\n",
              "1                    0                    1                 0\n",
              "2                    0                    1                 0\n",
              "3                    0                    1                 0\n",
              "4                    0                    1                 0"
            ]
          },
          "metadata": {},
          "execution_count": 137
        }
      ]
    },
    {
      "cell_type": "code",
      "source": [
        "#after encoding both dependent and independent variables, we concat them to make a complete dataset\n",
        "data = pd.concat([data,dummies],axis=1)\n",
        "data.head()"
      ],
      "metadata": {
        "id": "wLzVmghoMQQQ",
        "colab": {
          "base_uri": "https://localhost:8080/",
          "height": 206
        },
        "outputId": "f498b7d9-fe54-4633-9509-e8f28d502950"
      },
      "execution_count": null,
      "outputs": [
        {
          "output_type": "execute_result",
          "data": {
            "text/html": [
              "\n",
              "  <div id=\"df-81b95395-a66d-44fb-8d82-12ef82f1bbc3\">\n",
              "    <div class=\"colab-df-container\">\n",
              "      <div>\n",
              "<style scoped>\n",
              "    .dataframe tbody tr th:only-of-type {\n",
              "        vertical-align: middle;\n",
              "    }\n",
              "\n",
              "    .dataframe tbody tr th {\n",
              "        vertical-align: top;\n",
              "    }\n",
              "\n",
              "    .dataframe thead th {\n",
              "        text-align: right;\n",
              "    }\n",
              "</style>\n",
              "<table border=\"1\" class=\"dataframe\">\n",
              "  <thead>\n",
              "    <tr style=\"text-align: right;\">\n",
              "      <th></th>\n",
              "      <th>applicant_age</th>\n",
              "      <th>income</th>\n",
              "      <th>debt_to_income_ratio</th>\n",
              "      <th>loan_amount</th>\n",
              "      <th>occupancy_type</th>\n",
              "      <th>accepted</th>\n",
              "      <th>Investment property</th>\n",
              "      <th>Principal residence</th>\n",
              "      <th>Second residence</th>\n",
              "    </tr>\n",
              "  </thead>\n",
              "  <tbody>\n",
              "    <tr>\n",
              "      <th>0</th>\n",
              "      <td>3.0</td>\n",
              "      <td>26.0</td>\n",
              "      <td>7.0</td>\n",
              "      <td>95000</td>\n",
              "      <td>Principal residence</td>\n",
              "      <td>0</td>\n",
              "      <td>0</td>\n",
              "      <td>1</td>\n",
              "      <td>0</td>\n",
              "    </tr>\n",
              "    <tr>\n",
              "      <th>1</th>\n",
              "      <td>4.0</td>\n",
              "      <td>379.0</td>\n",
              "      <td>7.0</td>\n",
              "      <td>3225000</td>\n",
              "      <td>Principal residence</td>\n",
              "      <td>0</td>\n",
              "      <td>0</td>\n",
              "      <td>1</td>\n",
              "      <td>0</td>\n",
              "    </tr>\n",
              "    <tr>\n",
              "      <th>2</th>\n",
              "      <td>3.0</td>\n",
              "      <td>86.0</td>\n",
              "      <td>4.0</td>\n",
              "      <td>105000</td>\n",
              "      <td>Principal residence</td>\n",
              "      <td>1</td>\n",
              "      <td>0</td>\n",
              "      <td>1</td>\n",
              "      <td>0</td>\n",
              "    </tr>\n",
              "    <tr>\n",
              "      <th>3</th>\n",
              "      <td>4.0</td>\n",
              "      <td>25.0</td>\n",
              "      <td>3.0</td>\n",
              "      <td>65000</td>\n",
              "      <td>Principal residence</td>\n",
              "      <td>1</td>\n",
              "      <td>0</td>\n",
              "      <td>1</td>\n",
              "      <td>0</td>\n",
              "    </tr>\n",
              "    <tr>\n",
              "      <th>4</th>\n",
              "      <td>5.0</td>\n",
              "      <td>33.0</td>\n",
              "      <td>1.0</td>\n",
              "      <td>75000</td>\n",
              "      <td>Principal residence</td>\n",
              "      <td>1</td>\n",
              "      <td>0</td>\n",
              "      <td>1</td>\n",
              "      <td>0</td>\n",
              "    </tr>\n",
              "  </tbody>\n",
              "</table>\n",
              "</div>\n",
              "      <button class=\"colab-df-convert\" onclick=\"convertToInteractive('df-81b95395-a66d-44fb-8d82-12ef82f1bbc3')\"\n",
              "              title=\"Convert this dataframe to an interactive table.\"\n",
              "              style=\"display:none;\">\n",
              "        \n",
              "  <svg xmlns=\"http://www.w3.org/2000/svg\" height=\"24px\"viewBox=\"0 0 24 24\"\n",
              "       width=\"24px\">\n",
              "    <path d=\"M0 0h24v24H0V0z\" fill=\"none\"/>\n",
              "    <path d=\"M18.56 5.44l.94 2.06.94-2.06 2.06-.94-2.06-.94-.94-2.06-.94 2.06-2.06.94zm-11 1L8.5 8.5l.94-2.06 2.06-.94-2.06-.94L8.5 2.5l-.94 2.06-2.06.94zm10 10l.94 2.06.94-2.06 2.06-.94-2.06-.94-.94-2.06-.94 2.06-2.06.94z\"/><path d=\"M17.41 7.96l-1.37-1.37c-.4-.4-.92-.59-1.43-.59-.52 0-1.04.2-1.43.59L10.3 9.45l-7.72 7.72c-.78.78-.78 2.05 0 2.83L4 21.41c.39.39.9.59 1.41.59.51 0 1.02-.2 1.41-.59l7.78-7.78 2.81-2.81c.8-.78.8-2.07 0-2.86zM5.41 20L4 18.59l7.72-7.72 1.47 1.35L5.41 20z\"/>\n",
              "  </svg>\n",
              "      </button>\n",
              "      \n",
              "  <style>\n",
              "    .colab-df-container {\n",
              "      display:flex;\n",
              "      flex-wrap:wrap;\n",
              "      gap: 12px;\n",
              "    }\n",
              "\n",
              "    .colab-df-convert {\n",
              "      background-color: #E8F0FE;\n",
              "      border: none;\n",
              "      border-radius: 50%;\n",
              "      cursor: pointer;\n",
              "      display: none;\n",
              "      fill: #1967D2;\n",
              "      height: 32px;\n",
              "      padding: 0 0 0 0;\n",
              "      width: 32px;\n",
              "    }\n",
              "\n",
              "    .colab-df-convert:hover {\n",
              "      background-color: #E2EBFA;\n",
              "      box-shadow: 0px 1px 2px rgba(60, 64, 67, 0.3), 0px 1px 3px 1px rgba(60, 64, 67, 0.15);\n",
              "      fill: #174EA6;\n",
              "    }\n",
              "\n",
              "    [theme=dark] .colab-df-convert {\n",
              "      background-color: #3B4455;\n",
              "      fill: #D2E3FC;\n",
              "    }\n",
              "\n",
              "    [theme=dark] .colab-df-convert:hover {\n",
              "      background-color: #434B5C;\n",
              "      box-shadow: 0px 1px 3px 1px rgba(0, 0, 0, 0.15);\n",
              "      filter: drop-shadow(0px 1px 2px rgba(0, 0, 0, 0.3));\n",
              "      fill: #FFFFFF;\n",
              "    }\n",
              "  </style>\n",
              "\n",
              "      <script>\n",
              "        const buttonEl =\n",
              "          document.querySelector('#df-81b95395-a66d-44fb-8d82-12ef82f1bbc3 button.colab-df-convert');\n",
              "        buttonEl.style.display =\n",
              "          google.colab.kernel.accessAllowed ? 'block' : 'none';\n",
              "\n",
              "        async function convertToInteractive(key) {\n",
              "          const element = document.querySelector('#df-81b95395-a66d-44fb-8d82-12ef82f1bbc3');\n",
              "          const dataTable =\n",
              "            await google.colab.kernel.invokeFunction('convertToInteractive',\n",
              "                                                     [key], {});\n",
              "          if (!dataTable) return;\n",
              "\n",
              "          const docLinkHtml = 'Like what you see? Visit the ' +\n",
              "            '<a target=\"_blank\" href=https://colab.research.google.com/notebooks/data_table.ipynb>data table notebook</a>'\n",
              "            + ' to learn more about interactive tables.';\n",
              "          element.innerHTML = '';\n",
              "          dataTable['output_type'] = 'display_data';\n",
              "          await google.colab.output.renderOutput(dataTable, element);\n",
              "          const docLink = document.createElement('div');\n",
              "          docLink.innerHTML = docLinkHtml;\n",
              "          element.appendChild(docLink);\n",
              "        }\n",
              "      </script>\n",
              "    </div>\n",
              "  </div>\n",
              "  "
            ],
            "text/plain": [
              "   applicant_age  income  ...  Principal residence  Second residence\n",
              "0            3.0    26.0  ...                    1                 0\n",
              "1            4.0   379.0  ...                    1                 0\n",
              "2            3.0    86.0  ...                    1                 0\n",
              "3            4.0    25.0  ...                    1                 0\n",
              "4            5.0    33.0  ...                    1                 0\n",
              "\n",
              "[5 rows x 9 columns]"
            ]
          },
          "metadata": {},
          "execution_count": 138
        }
      ]
    },
    {
      "cell_type": "code",
      "source": [
        "#we filter out the data which is not numeric and have already been encoded\n",
        "data.drop(labels = [\"occupancy_type\"],axis=1,inplace=True)\n",
        "data.head()"
      ],
      "metadata": {
        "id": "kGJ1VJqKOMJN",
        "colab": {
          "base_uri": "https://localhost:8080/",
          "height": 206
        },
        "outputId": "e6895226-05b9-4fe4-cd67-c4d6f97fc36a"
      },
      "execution_count": null,
      "outputs": [
        {
          "output_type": "execute_result",
          "data": {
            "text/html": [
              "\n",
              "  <div id=\"df-5f4b6993-ab22-4d09-aa29-ea36a127e0a5\">\n",
              "    <div class=\"colab-df-container\">\n",
              "      <div>\n",
              "<style scoped>\n",
              "    .dataframe tbody tr th:only-of-type {\n",
              "        vertical-align: middle;\n",
              "    }\n",
              "\n",
              "    .dataframe tbody tr th {\n",
              "        vertical-align: top;\n",
              "    }\n",
              "\n",
              "    .dataframe thead th {\n",
              "        text-align: right;\n",
              "    }\n",
              "</style>\n",
              "<table border=\"1\" class=\"dataframe\">\n",
              "  <thead>\n",
              "    <tr style=\"text-align: right;\">\n",
              "      <th></th>\n",
              "      <th>applicant_age</th>\n",
              "      <th>income</th>\n",
              "      <th>debt_to_income_ratio</th>\n",
              "      <th>loan_amount</th>\n",
              "      <th>accepted</th>\n",
              "      <th>Investment property</th>\n",
              "      <th>Principal residence</th>\n",
              "      <th>Second residence</th>\n",
              "    </tr>\n",
              "  </thead>\n",
              "  <tbody>\n",
              "    <tr>\n",
              "      <th>0</th>\n",
              "      <td>3.0</td>\n",
              "      <td>26.0</td>\n",
              "      <td>7.0</td>\n",
              "      <td>95000</td>\n",
              "      <td>0</td>\n",
              "      <td>0</td>\n",
              "      <td>1</td>\n",
              "      <td>0</td>\n",
              "    </tr>\n",
              "    <tr>\n",
              "      <th>1</th>\n",
              "      <td>4.0</td>\n",
              "      <td>379.0</td>\n",
              "      <td>7.0</td>\n",
              "      <td>3225000</td>\n",
              "      <td>0</td>\n",
              "      <td>0</td>\n",
              "      <td>1</td>\n",
              "      <td>0</td>\n",
              "    </tr>\n",
              "    <tr>\n",
              "      <th>2</th>\n",
              "      <td>3.0</td>\n",
              "      <td>86.0</td>\n",
              "      <td>4.0</td>\n",
              "      <td>105000</td>\n",
              "      <td>1</td>\n",
              "      <td>0</td>\n",
              "      <td>1</td>\n",
              "      <td>0</td>\n",
              "    </tr>\n",
              "    <tr>\n",
              "      <th>3</th>\n",
              "      <td>4.0</td>\n",
              "      <td>25.0</td>\n",
              "      <td>3.0</td>\n",
              "      <td>65000</td>\n",
              "      <td>1</td>\n",
              "      <td>0</td>\n",
              "      <td>1</td>\n",
              "      <td>0</td>\n",
              "    </tr>\n",
              "    <tr>\n",
              "      <th>4</th>\n",
              "      <td>5.0</td>\n",
              "      <td>33.0</td>\n",
              "      <td>1.0</td>\n",
              "      <td>75000</td>\n",
              "      <td>1</td>\n",
              "      <td>0</td>\n",
              "      <td>1</td>\n",
              "      <td>0</td>\n",
              "    </tr>\n",
              "  </tbody>\n",
              "</table>\n",
              "</div>\n",
              "      <button class=\"colab-df-convert\" onclick=\"convertToInteractive('df-5f4b6993-ab22-4d09-aa29-ea36a127e0a5')\"\n",
              "              title=\"Convert this dataframe to an interactive table.\"\n",
              "              style=\"display:none;\">\n",
              "        \n",
              "  <svg xmlns=\"http://www.w3.org/2000/svg\" height=\"24px\"viewBox=\"0 0 24 24\"\n",
              "       width=\"24px\">\n",
              "    <path d=\"M0 0h24v24H0V0z\" fill=\"none\"/>\n",
              "    <path d=\"M18.56 5.44l.94 2.06.94-2.06 2.06-.94-2.06-.94-.94-2.06-.94 2.06-2.06.94zm-11 1L8.5 8.5l.94-2.06 2.06-.94-2.06-.94L8.5 2.5l-.94 2.06-2.06.94zm10 10l.94 2.06.94-2.06 2.06-.94-2.06-.94-.94-2.06-.94 2.06-2.06.94z\"/><path d=\"M17.41 7.96l-1.37-1.37c-.4-.4-.92-.59-1.43-.59-.52 0-1.04.2-1.43.59L10.3 9.45l-7.72 7.72c-.78.78-.78 2.05 0 2.83L4 21.41c.39.39.9.59 1.41.59.51 0 1.02-.2 1.41-.59l7.78-7.78 2.81-2.81c.8-.78.8-2.07 0-2.86zM5.41 20L4 18.59l7.72-7.72 1.47 1.35L5.41 20z\"/>\n",
              "  </svg>\n",
              "      </button>\n",
              "      \n",
              "  <style>\n",
              "    .colab-df-container {\n",
              "      display:flex;\n",
              "      flex-wrap:wrap;\n",
              "      gap: 12px;\n",
              "    }\n",
              "\n",
              "    .colab-df-convert {\n",
              "      background-color: #E8F0FE;\n",
              "      border: none;\n",
              "      border-radius: 50%;\n",
              "      cursor: pointer;\n",
              "      display: none;\n",
              "      fill: #1967D2;\n",
              "      height: 32px;\n",
              "      padding: 0 0 0 0;\n",
              "      width: 32px;\n",
              "    }\n",
              "\n",
              "    .colab-df-convert:hover {\n",
              "      background-color: #E2EBFA;\n",
              "      box-shadow: 0px 1px 2px rgba(60, 64, 67, 0.3), 0px 1px 3px 1px rgba(60, 64, 67, 0.15);\n",
              "      fill: #174EA6;\n",
              "    }\n",
              "\n",
              "    [theme=dark] .colab-df-convert {\n",
              "      background-color: #3B4455;\n",
              "      fill: #D2E3FC;\n",
              "    }\n",
              "\n",
              "    [theme=dark] .colab-df-convert:hover {\n",
              "      background-color: #434B5C;\n",
              "      box-shadow: 0px 1px 3px 1px rgba(0, 0, 0, 0.15);\n",
              "      filter: drop-shadow(0px 1px 2px rgba(0, 0, 0, 0.3));\n",
              "      fill: #FFFFFF;\n",
              "    }\n",
              "  </style>\n",
              "\n",
              "      <script>\n",
              "        const buttonEl =\n",
              "          document.querySelector('#df-5f4b6993-ab22-4d09-aa29-ea36a127e0a5 button.colab-df-convert');\n",
              "        buttonEl.style.display =\n",
              "          google.colab.kernel.accessAllowed ? 'block' : 'none';\n",
              "\n",
              "        async function convertToInteractive(key) {\n",
              "          const element = document.querySelector('#df-5f4b6993-ab22-4d09-aa29-ea36a127e0a5');\n",
              "          const dataTable =\n",
              "            await google.colab.kernel.invokeFunction('convertToInteractive',\n",
              "                                                     [key], {});\n",
              "          if (!dataTable) return;\n",
              "\n",
              "          const docLinkHtml = 'Like what you see? Visit the ' +\n",
              "            '<a target=\"_blank\" href=https://colab.research.google.com/notebooks/data_table.ipynb>data table notebook</a>'\n",
              "            + ' to learn more about interactive tables.';\n",
              "          element.innerHTML = '';\n",
              "          dataTable['output_type'] = 'display_data';\n",
              "          await google.colab.output.renderOutput(dataTable, element);\n",
              "          const docLink = document.createElement('div');\n",
              "          docLink.innerHTML = docLinkHtml;\n",
              "          element.appendChild(docLink);\n",
              "        }\n",
              "      </script>\n",
              "    </div>\n",
              "  </div>\n",
              "  "
            ],
            "text/plain": [
              "   applicant_age  income  ...  Principal residence  Second residence\n",
              "0            3.0    26.0  ...                    1                 0\n",
              "1            4.0   379.0  ...                    1                 0\n",
              "2            3.0    86.0  ...                    1                 0\n",
              "3            4.0    25.0  ...                    1                 0\n",
              "4            5.0    33.0  ...                    1                 0\n",
              "\n",
              "[5 rows x 8 columns]"
            ]
          },
          "metadata": {},
          "execution_count": 139
        }
      ]
    },
    {
      "cell_type": "code",
      "source": [
        "#we filter out the independent variable for processing\n",
        "X= data.drop(labels=[\"accepted\"],axis =1)\n",
        "print(X)"
      ],
      "metadata": {
        "id": "8BjD6sM4Rv6T",
        "colab": {
          "base_uri": "https://localhost:8080/"
        },
        "outputId": "aa811faf-512e-4b2f-ffb6-7b1ba520622e"
      },
      "execution_count": null,
      "outputs": [
        {
          "output_type": "stream",
          "name": "stdout",
          "text": [
            "        applicant_age  income  ...  Principal residence  Second residence\n",
            "0                 3.0    26.0  ...                    1                 0\n",
            "1                 4.0   379.0  ...                    1                 0\n",
            "2                 3.0    86.0  ...                    1                 0\n",
            "3                 4.0    25.0  ...                    1                 0\n",
            "4                 5.0    33.0  ...                    1                 0\n",
            "...               ...     ...  ...                  ...               ...\n",
            "136256            4.0   330.0  ...                    0                 0\n",
            "136257            4.0   138.0  ...                    1                 0\n",
            "136258            2.0   106.0  ...                    1                 0\n",
            "136259            1.0    91.0  ...                    1                 0\n",
            "136260            1.0   127.0  ...                    1                 0\n",
            "\n",
            "[132764 rows x 7 columns]\n"
          ]
        }
      ]
    },
    {
      "cell_type": "code",
      "source": [
        "#we assign dependent variable to another variable for model training\n",
        "Y = data[\"accepted\"]\n",
        "print(Y)"
      ],
      "metadata": {
        "id": "X2KmXBX-R1rW",
        "colab": {
          "base_uri": "https://localhost:8080/"
        },
        "outputId": "3399c959-d1c5-413a-ece5-c42f9021053f"
      },
      "execution_count": null,
      "outputs": [
        {
          "output_type": "stream",
          "name": "stdout",
          "text": [
            "0         0\n",
            "1         0\n",
            "2         1\n",
            "3         1\n",
            "4         1\n",
            "         ..\n",
            "136256    0\n",
            "136257    1\n",
            "136258    0\n",
            "136259    1\n",
            "136260    1\n",
            "Name: accepted, Length: 132764, dtype: int64\n"
          ]
        }
      ]
    },
    {
      "cell_type": "markdown",
      "source": [
        "**Data representation/ visualization**"
      ],
      "metadata": {
        "id": "9Aft84iwblua"
      }
    },
    {
      "cell_type": "code",
      "source": [
        ""
      ],
      "metadata": {
        "id": "ZvbOkHefa7sh"
      },
      "execution_count": null,
      "outputs": []
    },
    {
      "cell_type": "code",
      "source": [
        "from numpy.ma.extras import corrcoef\n",
        "x_sample= data['accepted']\n",
        "y_sample= data['applicant_age']\n",
        "r = corrcoef(x_sample,y_sample)\n",
        "print(r)\n"
      ],
      "metadata": {
        "colab": {
          "base_uri": "https://localhost:8080/"
        },
        "id": "DmURn1Huaotb",
        "outputId": "47596c1e-63e0-4cc5-b308-74bc73e7dcd2"
      },
      "execution_count": null,
      "outputs": [
        {
          "output_type": "stream",
          "name": "stdout",
          "text": [
            "[[1.0 -0.037776982941898414]\n",
            " [-0.037776982941898414 1.0]]\n"
          ]
        }
      ]
    },
    {
      "cell_type": "code",
      "source": [
        "pd.crosstab(data['debt_to_income_ratio'],data['accepted'],margins=True)"
      ],
      "metadata": {
        "colab": {
          "base_uri": "https://localhost:8080/",
          "height": 363
        },
        "id": "rnhLYQYrU0ZT",
        "outputId": "62af3ce9-5f84-44fb-abd9-5054845642da"
      },
      "execution_count": null,
      "outputs": [
        {
          "output_type": "execute_result",
          "data": {
            "text/html": [
              "\n",
              "  <div id=\"df-db3b2c63-4c8e-4b68-b96e-471d2a5ec37e\">\n",
              "    <div class=\"colab-df-container\">\n",
              "      <div>\n",
              "<style scoped>\n",
              "    .dataframe tbody tr th:only-of-type {\n",
              "        vertical-align: middle;\n",
              "    }\n",
              "\n",
              "    .dataframe tbody tr th {\n",
              "        vertical-align: top;\n",
              "    }\n",
              "\n",
              "    .dataframe thead th {\n",
              "        text-align: right;\n",
              "    }\n",
              "</style>\n",
              "<table border=\"1\" class=\"dataframe\">\n",
              "  <thead>\n",
              "    <tr style=\"text-align: right;\">\n",
              "      <th>accepted</th>\n",
              "      <th>0</th>\n",
              "      <th>1</th>\n",
              "      <th>All</th>\n",
              "    </tr>\n",
              "    <tr>\n",
              "      <th>debt_to_income_ratio</th>\n",
              "      <th></th>\n",
              "      <th></th>\n",
              "      <th></th>\n",
              "    </tr>\n",
              "  </thead>\n",
              "  <tbody>\n",
              "    <tr>\n",
              "      <th>0.0</th>\n",
              "      <td>933</td>\n",
              "      <td>5091</td>\n",
              "      <td>6024</td>\n",
              "    </tr>\n",
              "    <tr>\n",
              "      <th>1.0</th>\n",
              "      <td>1540</td>\n",
              "      <td>18445</td>\n",
              "      <td>19985</td>\n",
              "    </tr>\n",
              "    <tr>\n",
              "      <th>2.0</th>\n",
              "      <td>1503</td>\n",
              "      <td>19221</td>\n",
              "      <td>20724</td>\n",
              "    </tr>\n",
              "    <tr>\n",
              "      <th>3.0</th>\n",
              "      <td>1657</td>\n",
              "      <td>20867</td>\n",
              "      <td>22524</td>\n",
              "    </tr>\n",
              "    <tr>\n",
              "      <th>4.0</th>\n",
              "      <td>2139</td>\n",
              "      <td>23804</td>\n",
              "      <td>25943</td>\n",
              "    </tr>\n",
              "    <tr>\n",
              "      <th>5.0</th>\n",
              "      <td>1794</td>\n",
              "      <td>15696</td>\n",
              "      <td>17490</td>\n",
              "    </tr>\n",
              "    <tr>\n",
              "      <th>6.0</th>\n",
              "      <td>3121</td>\n",
              "      <td>12812</td>\n",
              "      <td>15933</td>\n",
              "    </tr>\n",
              "    <tr>\n",
              "      <th>7.0</th>\n",
              "      <td>3606</td>\n",
              "      <td>535</td>\n",
              "      <td>4141</td>\n",
              "    </tr>\n",
              "    <tr>\n",
              "      <th>All</th>\n",
              "      <td>16293</td>\n",
              "      <td>116471</td>\n",
              "      <td>132764</td>\n",
              "    </tr>\n",
              "  </tbody>\n",
              "</table>\n",
              "</div>\n",
              "      <button class=\"colab-df-convert\" onclick=\"convertToInteractive('df-db3b2c63-4c8e-4b68-b96e-471d2a5ec37e')\"\n",
              "              title=\"Convert this dataframe to an interactive table.\"\n",
              "              style=\"display:none;\">\n",
              "        \n",
              "  <svg xmlns=\"http://www.w3.org/2000/svg\" height=\"24px\"viewBox=\"0 0 24 24\"\n",
              "       width=\"24px\">\n",
              "    <path d=\"M0 0h24v24H0V0z\" fill=\"none\"/>\n",
              "    <path d=\"M18.56 5.44l.94 2.06.94-2.06 2.06-.94-2.06-.94-.94-2.06-.94 2.06-2.06.94zm-11 1L8.5 8.5l.94-2.06 2.06-.94-2.06-.94L8.5 2.5l-.94 2.06-2.06.94zm10 10l.94 2.06.94-2.06 2.06-.94-2.06-.94-.94-2.06-.94 2.06-2.06.94z\"/><path d=\"M17.41 7.96l-1.37-1.37c-.4-.4-.92-.59-1.43-.59-.52 0-1.04.2-1.43.59L10.3 9.45l-7.72 7.72c-.78.78-.78 2.05 0 2.83L4 21.41c.39.39.9.59 1.41.59.51 0 1.02-.2 1.41-.59l7.78-7.78 2.81-2.81c.8-.78.8-2.07 0-2.86zM5.41 20L4 18.59l7.72-7.72 1.47 1.35L5.41 20z\"/>\n",
              "  </svg>\n",
              "      </button>\n",
              "      \n",
              "  <style>\n",
              "    .colab-df-container {\n",
              "      display:flex;\n",
              "      flex-wrap:wrap;\n",
              "      gap: 12px;\n",
              "    }\n",
              "\n",
              "    .colab-df-convert {\n",
              "      background-color: #E8F0FE;\n",
              "      border: none;\n",
              "      border-radius: 50%;\n",
              "      cursor: pointer;\n",
              "      display: none;\n",
              "      fill: #1967D2;\n",
              "      height: 32px;\n",
              "      padding: 0 0 0 0;\n",
              "      width: 32px;\n",
              "    }\n",
              "\n",
              "    .colab-df-convert:hover {\n",
              "      background-color: #E2EBFA;\n",
              "      box-shadow: 0px 1px 2px rgba(60, 64, 67, 0.3), 0px 1px 3px 1px rgba(60, 64, 67, 0.15);\n",
              "      fill: #174EA6;\n",
              "    }\n",
              "\n",
              "    [theme=dark] .colab-df-convert {\n",
              "      background-color: #3B4455;\n",
              "      fill: #D2E3FC;\n",
              "    }\n",
              "\n",
              "    [theme=dark] .colab-df-convert:hover {\n",
              "      background-color: #434B5C;\n",
              "      box-shadow: 0px 1px 3px 1px rgba(0, 0, 0, 0.15);\n",
              "      filter: drop-shadow(0px 1px 2px rgba(0, 0, 0, 0.3));\n",
              "      fill: #FFFFFF;\n",
              "    }\n",
              "  </style>\n",
              "\n",
              "      <script>\n",
              "        const buttonEl =\n",
              "          document.querySelector('#df-db3b2c63-4c8e-4b68-b96e-471d2a5ec37e button.colab-df-convert');\n",
              "        buttonEl.style.display =\n",
              "          google.colab.kernel.accessAllowed ? 'block' : 'none';\n",
              "\n",
              "        async function convertToInteractive(key) {\n",
              "          const element = document.querySelector('#df-db3b2c63-4c8e-4b68-b96e-471d2a5ec37e');\n",
              "          const dataTable =\n",
              "            await google.colab.kernel.invokeFunction('convertToInteractive',\n",
              "                                                     [key], {});\n",
              "          if (!dataTable) return;\n",
              "\n",
              "          const docLinkHtml = 'Like what you see? Visit the ' +\n",
              "            '<a target=\"_blank\" href=https://colab.research.google.com/notebooks/data_table.ipynb>data table notebook</a>'\n",
              "            + ' to learn more about interactive tables.';\n",
              "          element.innerHTML = '';\n",
              "          dataTable['output_type'] = 'display_data';\n",
              "          await google.colab.output.renderOutput(dataTable, element);\n",
              "          const docLink = document.createElement('div');\n",
              "          docLink.innerHTML = docLinkHtml;\n",
              "          element.appendChild(docLink);\n",
              "        }\n",
              "      </script>\n",
              "    </div>\n",
              "  </div>\n",
              "  "
            ],
            "text/plain": [
              "accepted                  0       1     All\n",
              "debt_to_income_ratio                       \n",
              "0.0                     933    5091    6024\n",
              "1.0                    1540   18445   19985\n",
              "2.0                    1503   19221   20724\n",
              "3.0                    1657   20867   22524\n",
              "4.0                    2139   23804   25943\n",
              "5.0                    1794   15696   17490\n",
              "6.0                    3121   12812   15933\n",
              "7.0                    3606     535    4141\n",
              "All                   16293  116471  132764"
            ]
          },
          "metadata": {},
          "execution_count": 209
        }
      ]
    },
    {
      "cell_type": "code",
      "source": [
        "#scatter representation\n",
        "\n",
        "sns.FacetGrid(data,hue=\"applicant_age\", height=8 ) \\\n",
        ".map(plt.scatter,\"accepted\", \"loan_amount\")\\\n",
        ".add_legend()\n",
        "plt.show()"
      ],
      "metadata": {
        "colab": {
          "base_uri": "https://localhost:8080/",
          "height": 555
        },
        "id": "qVLItFIYPOLh",
        "outputId": "429b0984-c601-4892-b861-945c82d2bc25"
      },
      "execution_count": null,
      "outputs": [
        {
          "output_type": "display_data",
          "data": {
            "image/png": "[encoded data removed]",
            "text/plain": [
              "<Figure size 761.475x576 with 1 Axes>"
            ]
          },
          "metadata": {}
        }
      ]
    },
    {
      "cell_type": "markdown",
      "source": [
        "Correlation matrix"
      ],
      "metadata": {
        "id": "BQZDNRFLcFFD"
      }
    },
    {
      "cell_type": "code",
      "source": [
        "from matplotlib.colorbar import Colorbar\n",
        "\n",
        "#we use the corelation coefficient matrix to visualize corelation between each of the variable in the mortgage application\n",
        "cols= ['applicant_age', 'income', 'debt_to_income_ratio','accepted','loan_amount' ]\n",
        "f,ax = plt.subplots(figsize=(12,3))\n",
        "\n",
        "cm = np.corrcoef(data[cols].values.T)\n",
        "sns.set(font_scale=2)\n",
        "hm=sns.heatmap(cm,\n",
        "               cbar = True,\n",
        "               annot = True,\n",
        "               square = True,\n",
        "               fmt = '.2f',\n",
        "               annot_kws ={'size':12},\n",
        "               yticklabels=cols,\n",
        "               xticklabels=cols)\n",
        "plt.show()"
      ],
      "metadata": {
        "id": "eRsV-VS5cHvV",
        "colab": {
          "base_uri": "https://localhost:8080/",
          "height": 448
        },
        "outputId": "9e10a5d8-dc44-4e29-aa96-9b5861485b98"
      },
      "execution_count": null,
      "outputs": [
        {
          "output_type": "display_data",
          "data": {
            "image/png": "[encoded data removed]",
            "text/plain": [
              "<Figure size 864x216 with 2 Axes>"
            ]
          },
          "metadata": {}
        }
      ]
    },
    {
      "cell_type": "code",
      "source": [
        ""
      ],
      "metadata": {
        "id": "bRzNaJ7RbkVi"
      },
      "execution_count": null,
      "outputs": []
    },
    {
      "cell_type": "markdown",
      "source": [
        "**Creating the training , validation, and testing data**"
      ],
      "metadata": {
        "id": "EWwDOCwGQOpq"
      }
    },
    {
      "cell_type": "code",
      "source": [
        "from sklearn.model_selection import train_test_split\n"
      ],
      "metadata": {
        "id": "crOi-4xkQYik"
      },
      "execution_count": null,
      "outputs": []
    },
    {
      "cell_type": "code",
      "source": [
        "#we split the dataset into two groups, 80% for validation and 20% for testing\n",
        "X_train, X_test, Y_train, Y_test = train_test_split(X, Y, test_size = 0.2, random_state = 0)\n",
        "X_train, X_val, Y_train, Y_val = train_test_split(X_train, Y_train, test_size = 0.2, random_state =0)"
      ],
      "metadata": {
        "id": "TIANrBzRQhRB"
      },
      "execution_count": null,
      "outputs": []
    },
    {
      "cell_type": "markdown",
      "source": [
        "**Testing models using various algorithm**"
      ],
      "metadata": {
        "id": "WbXFjwHHYk9x"
      }
    },
    {
      "cell_type": "markdown",
      "source": [
        "**Logistic Regression Model**"
      ],
      "metadata": {
        "id": "VxX4NHRlRbKg"
      }
    },
    {
      "cell_type": "code",
      "source": [
        "from sklearn.linear_model import LogisticRegression\n",
        "logreg = LogisticRegression(random_state=1, max_iter=1000)\n",
        "logreg.fit(X_train,Y_train)"
      ],
      "metadata": {
        "id": "0cTgWMvqXMVf",
        "colab": {
          "base_uri": "https://localhost:8080/"
        },
        "outputId": "faec68b1-6462-4c17-87a5-39c5c6a28929"
      },
      "execution_count": null,
      "outputs": [
        {
          "output_type": "execute_result",
          "data": {
            "text/plain": [
              "LogisticRegression(max_iter=1000, random_state=1)"
            ]
          },
          "metadata": {},
          "execution_count": 145
        }
      ]
    },
    {
      "cell_type": "code",
      "source": [
        "Y_pred = logreg.predict(X_val)"
      ],
      "metadata": {
        "id": "VL5-apBpgvNr"
      },
      "execution_count": null,
      "outputs": []
    },
    {
      "cell_type": "code",
      "source": [
        "data['accepted'].value_counts()\n"
      ],
      "metadata": {
        "id": "wvNazDgEg7eG",
        "colab": {
          "base_uri": "https://localhost:8080/"
        },
        "outputId": "204cf354-c21e-4dd6-be95-024aba315e03"
      },
      "execution_count": null,
      "outputs": [
        {
          "output_type": "execute_result",
          "data": {
            "text/plain": [
              "1    116471\n",
              "0     16293\n",
              "Name: accepted, dtype: int64"
            ]
          },
          "metadata": {},
          "execution_count": 147
        }
      ]
    },
    {
      "cell_type": "code",
      "source": [
        "print(str(data['accepted'].value_counts()[1]/(data['accepted'].value_counts()[1]+data['accepted'].value_counts()[0])*100)+\"% of entries correspond to accepted loans\")"
      ],
      "metadata": {
        "id": "t_lA6bxHjLxM",
        "colab": {
          "base_uri": "https://localhost:8080/"
        },
        "outputId": "f9533c07-d45d-4366-c919-63a15c454d61"
      },
      "execution_count": null,
      "outputs": [
        {
          "output_type": "stream",
          "name": "stdout",
          "text": [
            "87.72784791057818% of entries correspond to accepted loans\n"
          ]
        }
      ]
    },
    {
      "cell_type": "code",
      "source": [
        "from sklearn.metrics import accuracy_score, precision_score, recall_score"
      ],
      "metadata": {
        "id": "rJuJexUcjndH"
      },
      "execution_count": null,
      "outputs": []
    },
    {
      "cell_type": "code",
      "source": [
        "print(\"Accuracy: \", accuracy_score(Y_val, Y_pred))"
      ],
      "metadata": {
        "id": "jhewv2RljtAd",
        "colab": {
          "base_uri": "https://localhost:8080/"
        },
        "outputId": "3c4b5f28-36e6-4d21-9e67-0d810bafb69e"
      },
      "execution_count": null,
      "outputs": [
        {
          "output_type": "stream",
          "name": "stdout",
          "text": [
            "Accuracy:  0.8794897142588146\n"
          ]
        }
      ]
    },
    {
      "cell_type": "code",
      "source": [
        ""
      ],
      "metadata": {
        "id": "H8ea9QU_jyCV"
      },
      "execution_count": null,
      "outputs": []
    },
    {
      "cell_type": "code",
      "source": [
        "print(\"Precision: \", precision_score(Y_val, Y_pred))"
      ],
      "metadata": {
        "id": "N0uX-eb-j2YI",
        "colab": {
          "base_uri": "https://localhost:8080/"
        },
        "outputId": "81d1d1d4-44ef-4f3d-e45e-4a4523e6e054"
      },
      "execution_count": null,
      "outputs": [
        {
          "output_type": "stream",
          "name": "stdout",
          "text": [
            "Precision:  0.8794897142588146\n"
          ]
        }
      ]
    },
    {
      "cell_type": "code",
      "source": [
        "print(\"recall value: \",recall_score(Y_val, Y_pred))"
      ],
      "metadata": {
        "id": "3QIZipaVkRW7",
        "colab": {
          "base_uri": "https://localhost:8080/"
        },
        "outputId": "6cab1723-c02b-4465-deb0-88292dec44c1"
      },
      "execution_count": null,
      "outputs": [
        {
          "output_type": "stream",
          "name": "stdout",
          "text": [
            "recall value:  1.0\n"
          ]
        }
      ]
    },
    {
      "cell_type": "code",
      "source": [
        ""
      ],
      "metadata": {
        "id": "9OqXLPxRg7-o"
      },
      "execution_count": null,
      "outputs": []
    },
    {
      "cell_type": "code",
      "source": [
        "#obtaining report\n",
        "\n",
        "from sklearn import metrics\n",
        "print(metrics.classification_report(Y_val,Y_pred))\n"
      ],
      "metadata": {
        "id": "RS7x1S4wgYvN",
        "colab": {
          "base_uri": "https://localhost:8080/"
        },
        "outputId": "54923df3-bf72-4cbf-9735-115bdde836d2"
      },
      "execution_count": null,
      "outputs": [
        {
          "output_type": "stream",
          "name": "stdout",
          "text": [
            "              precision    recall  f1-score   support\n",
            "\n",
            "           0       0.00      0.00      0.00      2560\n",
            "           1       0.88      1.00      0.94     18683\n",
            "\n",
            "    accuracy                           0.88     21243\n",
            "   macro avg       0.44      0.50      0.47     21243\n",
            "weighted avg       0.77      0.88      0.82     21243\n",
            "\n"
          ]
        },
        {
          "output_type": "stream",
          "name": "stderr",
          "text": [
            "/usr/local/lib/python3.7/dist-packages/sklearn/metrics/_classification.py:1318: UndefinedMetricWarning: Precision and F-score are ill-defined and being set to 0.0 in labels with no predicted samples. Use `zero_division` parameter to control this behavior.\n",
            "  _warn_prf(average, modifier, msg_start, len(result))\n",
            "/usr/local/lib/python3.7/dist-packages/sklearn/metrics/_classification.py:1318: UndefinedMetricWarning: Precision and F-score are ill-defined and being set to 0.0 in labels with no predicted samples. Use `zero_division` parameter to control this behavior.\n",
            "  _warn_prf(average, modifier, msg_start, len(result))\n",
            "/usr/local/lib/python3.7/dist-packages/sklearn/metrics/_classification.py:1318: UndefinedMetricWarning: Precision and F-score are ill-defined and being set to 0.0 in labels with no predicted samples. Use `zero_division` parameter to control this behavior.\n",
            "  _warn_prf(average, modifier, msg_start, len(result))\n"
          ]
        }
      ]
    },
    {
      "cell_type": "code",
      "source": [
        "#report in the form of count matrix\n",
        "print(metrics.confusion_matrix(Y_val,Y_pred))"
      ],
      "metadata": {
        "id": "_lDbK9odhqlg",
        "colab": {
          "base_uri": "https://localhost:8080/"
        },
        "outputId": "009c87ea-ef76-4c30-c6b6-9c668953be0b"
      },
      "execution_count": null,
      "outputs": [
        {
          "output_type": "stream",
          "name": "stdout",
          "text": [
            "[[    0  2560]\n",
            " [    0 18683]]\n"
          ]
        }
      ]
    },
    {
      "cell_type": "markdown",
      "source": [
        "**Random forest Model**"
      ],
      "metadata": {
        "id": "hom0-fQKh412"
      }
    },
    {
      "cell_type": "code",
      "source": [
        "from sklearn.ensemble import RandomForestClassifier\n",
        "R_forest = RandomForestClassifier()"
      ],
      "metadata": {
        "id": "uVj18hEfiEGw"
      },
      "execution_count": null,
      "outputs": []
    },
    {
      "cell_type": "code",
      "source": [
        "#training\n",
        "R_forest.fit(X_train,Y_train)"
      ],
      "metadata": {
        "id": "1PTPfUX8h_sI",
        "colab": {
          "base_uri": "https://localhost:8080/"
        },
        "outputId": "30078d44-16fa-41ee-b52b-976a0157d30b"
      },
      "execution_count": null,
      "outputs": [
        {
          "output_type": "execute_result",
          "data": {
            "text/plain": [
              "RandomForestClassifier()"
            ]
          },
          "metadata": {},
          "execution_count": 158
        }
      ]
    },
    {
      "cell_type": "code",
      "source": [
        "#Training accuracy\n",
        "R_forest.score(X_train,Y_train)"
      ],
      "metadata": {
        "id": "FP7C7gljiuIw",
        "colab": {
          "base_uri": "https://localhost:8080/"
        },
        "outputId": "d00ea1c9-6011-4174-d888-28042714d8f9"
      },
      "execution_count": null,
      "outputs": [
        {
          "output_type": "execute_result",
          "data": {
            "text/plain": [
              "0.962774220883156"
            ]
          },
          "metadata": {},
          "execution_count": 159
        }
      ]
    },
    {
      "cell_type": "code",
      "source": [
        "#testing accuracy\n",
        "R_forest.score(X_test, Y_test)"
      ],
      "metadata": {
        "id": "hmNGKoTOkV5E",
        "colab": {
          "base_uri": "https://localhost:8080/"
        },
        "outputId": "26106dde-9142-4d6a-ed54-e7cff71b316d"
      },
      "execution_count": null,
      "outputs": [
        {
          "output_type": "execute_result",
          "data": {
            "text/plain": [
              "0.8788837419500621"
            ]
          },
          "metadata": {},
          "execution_count": 160
        }
      ]
    },
    {
      "cell_type": "code",
      "source": [
        "Y_pred = R_forest.predict(X_val)"
      ],
      "metadata": {
        "id": "eXz2rrL0kdFE"
      },
      "execution_count": null,
      "outputs": []
    },
    {
      "cell_type": "code",
      "source": [
        "print(\"Accuracy: \", accuracy_score(Y_val, Y_pred))"
      ],
      "metadata": {
        "id": "VLktc2E9kwVL",
        "colab": {
          "base_uri": "https://localhost:8080/"
        },
        "outputId": "4e08a154-7eed-48a6-f695-b5bcb698c0e0"
      },
      "execution_count": null,
      "outputs": [
        {
          "output_type": "stream",
          "name": "stdout",
          "text": [
            "Accuracy:  0.8808548698394766\n"
          ]
        }
      ]
    },
    {
      "cell_type": "code",
      "source": [
        "print(\"precision: \", precision_score(Y_val, Y_pred))"
      ],
      "metadata": {
        "id": "I-xO0q6glKhQ",
        "colab": {
          "base_uri": "https://localhost:8080/"
        },
        "outputId": "35e90601-56ad-4247-9e08-b1ef3e7575d2"
      },
      "execution_count": null,
      "outputs": [
        {
          "output_type": "stream",
          "name": "stdout",
          "text": [
            "precision:  0.9118306986231515\n"
          ]
        }
      ]
    },
    {
      "cell_type": "code",
      "source": [
        "print(\"recall Value: \", recall_score(Y_val, Y_pred))"
      ],
      "metadata": {
        "id": "-6SR4SUslWC5",
        "colab": {
          "base_uri": "https://localhost:8080/"
        },
        "outputId": "550761e1-641c-459d-f94d-ff4e4a45b3c2"
      },
      "execution_count": null,
      "outputs": [
        {
          "output_type": "stream",
          "name": "stdout",
          "text": [
            "recall Value:  0.9570732751699406\n"
          ]
        }
      ]
    },
    {
      "cell_type": "code",
      "source": [
        "print(metrics.classification_report(Y_val,Y_pred))"
      ],
      "metadata": {
        "id": "BUB14CSLlif3",
        "colab": {
          "base_uri": "https://localhost:8080/"
        },
        "outputId": "dadffba9-20e5-49ec-bf42-72e1dd5efe1a"
      },
      "execution_count": null,
      "outputs": [
        {
          "output_type": "stream",
          "name": "stdout",
          "text": [
            "              precision    recall  f1-score   support\n",
            "\n",
            "           0       0.51      0.32      0.40      2560\n",
            "           1       0.91      0.96      0.93     18683\n",
            "\n",
            "    accuracy                           0.88     21243\n",
            "   macro avg       0.71      0.64      0.67     21243\n",
            "weighted avg       0.86      0.88      0.87     21243\n",
            "\n"
          ]
        }
      ]
    },
    {
      "cell_type": "code",
      "source": [
        "print(metrics.confusion_matrix(Y_val, Y_pred))"
      ],
      "metadata": {
        "id": "qiWAkM7Pl8B_",
        "colab": {
          "base_uri": "https://localhost:8080/"
        },
        "outputId": "33e25706-ffff-4520-c786-9b67841124f2"
      },
      "execution_count": null,
      "outputs": [
        {
          "output_type": "stream",
          "name": "stdout",
          "text": [
            "[[  831  1729]\n",
            " [  802 17881]]\n"
          ]
        }
      ]
    },
    {
      "cell_type": "markdown",
      "source": [
        "***Decision Tree ***"
      ],
      "metadata": {
        "id": "_p6ZQNuNovOx"
      }
    },
    {
      "cell_type": "code",
      "source": [
        "from sklearn.tree import DecisionTreeClassifier\n",
        "D_tree = DecisionTreeClassifier()"
      ],
      "metadata": {
        "id": "V0k-Xw3WouW7"
      },
      "execution_count": null,
      "outputs": []
    },
    {
      "cell_type": "code",
      "source": [
        "D_tree.fit(X_train,Y_train)"
      ],
      "metadata": {
        "id": "_SclubZmpNi2",
        "colab": {
          "base_uri": "https://localhost:8080/"
        },
        "outputId": "8dd3bd4a-8e44-4d3f-923d-1ff58e8c3690"
      },
      "execution_count": null,
      "outputs": [
        {
          "output_type": "execute_result",
          "data": {
            "text/plain": [
              "DecisionTreeClassifier()"
            ]
          },
          "metadata": {},
          "execution_count": 168
        }
      ]
    },
    {
      "cell_type": "code",
      "source": [
        "#training\n",
        "D_tree.score(X_train,Y_train)"
      ],
      "metadata": {
        "id": "7kM5XIcapeb9",
        "colab": {
          "base_uri": "https://localhost:8080/"
        },
        "outputId": "22266e9a-3d3d-40f0-dd47-e49412de0236"
      },
      "execution_count": null,
      "outputs": [
        {
          "output_type": "execute_result",
          "data": {
            "text/plain": [
              "0.9627859900197722"
            ]
          },
          "metadata": {},
          "execution_count": 169
        }
      ]
    },
    {
      "cell_type": "code",
      "source": [
        "#testing\n",
        "D_tree.score(X_test,Y_test)"
      ],
      "metadata": {
        "id": "yUYf24XUrcNh",
        "colab": {
          "base_uri": "https://localhost:8080/"
        },
        "outputId": "46a16db2-a30b-47f2-92ac-64e3a8336d6d"
      },
      "execution_count": null,
      "outputs": [
        {
          "output_type": "execute_result",
          "data": {
            "text/plain": [
              "0.8365156479493843"
            ]
          },
          "metadata": {},
          "execution_count": 170
        }
      ]
    },
    {
      "cell_type": "code",
      "source": [
        "Y_pred = D_tree.predict(X_val)"
      ],
      "metadata": {
        "id": "54hF4iE4rmwW"
      },
      "execution_count": null,
      "outputs": []
    },
    {
      "cell_type": "code",
      "source": [
        "print(\"Accuracy: \", accuracy_score(Y_val, Y_pred))"
      ],
      "metadata": {
        "id": "MLMu1xLWr2MJ",
        "colab": {
          "base_uri": "https://localhost:8080/"
        },
        "outputId": "56cca24e-b785-4d79-9726-2b8b6640d674"
      },
      "execution_count": null,
      "outputs": [
        {
          "output_type": "stream",
          "name": "stdout",
          "text": [
            "Accuracy:  0.8339217624629289\n"
          ]
        }
      ]
    },
    {
      "cell_type": "code",
      "source": [
        "print(\"precision: \", precision_score(Y_val, Y_pred))"
      ],
      "metadata": {
        "id": "L7W-P5l1r8XD",
        "colab": {
          "base_uri": "https://localhost:8080/"
        },
        "outputId": "188cbfb8-eacc-4109-8336-4e2c456e33ee"
      },
      "execution_count": null,
      "outputs": [
        {
          "output_type": "stream",
          "name": "stdout",
          "text": [
            "precision:  0.9104598884134121\n"
          ]
        }
      ]
    },
    {
      "cell_type": "code",
      "source": [
        "print(\"recall Value: \", recall_score(Y_val, Y_pred))"
      ],
      "metadata": {
        "id": "z6mAexO0sDHo",
        "colab": {
          "base_uri": "https://localhost:8080/"
        },
        "outputId": "5d293f0d-d117-4ebd-a963-c35ca41fc76e"
      },
      "execution_count": null,
      "outputs": [
        {
          "output_type": "stream",
          "name": "stdout",
          "text": [
            "recall Value:  0.8996413852165069\n"
          ]
        }
      ]
    },
    {
      "cell_type": "code",
      "source": [
        "print(metrics.classification_report(Y_val,Y_pred))"
      ],
      "metadata": {
        "id": "6lOZiOz6sIIE",
        "colab": {
          "base_uri": "https://localhost:8080/"
        },
        "outputId": "62b39d17-bf87-4055-b9d4-68832b28d543"
      },
      "execution_count": null,
      "outputs": [
        {
          "output_type": "stream",
          "name": "stdout",
          "text": [
            "              precision    recall  f1-score   support\n",
            "\n",
            "           0       0.33      0.35      0.34      2560\n",
            "           1       0.91      0.90      0.91     18683\n",
            "\n",
            "    accuracy                           0.83     21243\n",
            "   macro avg       0.62      0.63      0.62     21243\n",
            "weighted avg       0.84      0.83      0.84     21243\n",
            "\n"
          ]
        }
      ]
    },
    {
      "cell_type": "code",
      "source": [
        "print(metrics.confusion_matrix(Y_val,Y_pred))"
      ],
      "metadata": {
        "id": "S7hthUNZ0ZTA",
        "colab": {
          "base_uri": "https://localhost:8080/"
        },
        "outputId": "6ff698f0-927c-4ac5-8fea-bec25ff70465"
      },
      "execution_count": null,
      "outputs": [
        {
          "output_type": "stream",
          "name": "stdout",
          "text": [
            "[[  907  1653]\n",
            " [ 1875 16808]]\n"
          ]
        }
      ]
    },
    {
      "cell_type": "markdown",
      "source": [
        "**Support Vector Machine**"
      ],
      "metadata": {
        "id": "ZPKL0hdJ0mMc"
      }
    },
    {
      "cell_type": "code",
      "source": [
        "from sklearn.svm import SVC\n",
        "s_vector = SVC()\n"
      ],
      "metadata": {
        "id": "yLIlocNG10Fj"
      },
      "execution_count": null,
      "outputs": []
    },
    {
      "cell_type": "code",
      "source": [
        "s_vector.fit(X_train,Y_train)"
      ],
      "metadata": {
        "colab": {
          "base_uri": "https://localhost:8080/"
        },
        "id": "VpsGbsAI8D1v",
        "outputId": "1641c668-db40-4850-f35f-d51ca423f8f8"
      },
      "execution_count": null,
      "outputs": [
        {
          "output_type": "execute_result",
          "data": {
            "text/plain": [
              "SVC()"
            ]
          },
          "metadata": {},
          "execution_count": 178
        }
      ]
    },
    {
      "cell_type": "code",
      "source": [
        "#training\n",
        "s_vector.score(X_train,Y_train)"
      ],
      "metadata": {
        "colab": {
          "base_uri": "https://localhost:8080/"
        },
        "id": "XiZAt9vq8Zfd",
        "outputId": "679ce010-95e8-4528-e3ae-5780e5f8e515"
      },
      "execution_count": null,
      "outputs": [
        {
          "output_type": "execute_result",
          "data": {
            "text/plain": [
              "0.877047829771208"
            ]
          },
          "metadata": {},
          "execution_count": 179
        }
      ]
    },
    {
      "cell_type": "code",
      "source": [
        "#testing\n",
        "s_vector.score(X_test,Y_test)\n"
      ],
      "metadata": {
        "colab": {
          "base_uri": "https://localhost:8080/"
        },
        "id": "C6SDLO7z8iXi",
        "outputId": "45597d2a-e32d-4021-8151-7e83c12501ea"
      },
      "execution_count": null,
      "outputs": [
        {
          "output_type": "execute_result",
          "data": {
            "text/plain": [
              "0.8762475049900199"
            ]
          },
          "metadata": {},
          "execution_count": 180
        }
      ]
    },
    {
      "cell_type": "code",
      "source": [
        "Y_pred= s_vector.predict(X_val)"
      ],
      "metadata": {
        "id": "zRP7GRHU8o57"
      },
      "execution_count": null,
      "outputs": []
    },
    {
      "cell_type": "code",
      "source": [
        "print(\"Accuracy: \", accuracy_score(Y_val, Y_pred))"
      ],
      "metadata": {
        "colab": {
          "base_uri": "https://localhost:8080/"
        },
        "id": "SurztSCqBmJe",
        "outputId": "d7c4c309-cca1-4668-a493-563264e3702b"
      },
      "execution_count": null,
      "outputs": [
        {
          "output_type": "stream",
          "name": "stdout",
          "text": [
            "Accuracy:  0.8794897142588146\n"
          ]
        }
      ]
    },
    {
      "cell_type": "code",
      "source": [
        "print(\"precision: \", precision_score(Y_val, Y_pred))"
      ],
      "metadata": {
        "colab": {
          "base_uri": "https://localhost:8080/"
        },
        "id": "RI8vQlHkBqZm",
        "outputId": "674ce055-3ebd-4328-8898-fabc70744793"
      },
      "execution_count": null,
      "outputs": [
        {
          "output_type": "stream",
          "name": "stdout",
          "text": [
            "precision:  0.8794897142588146\n"
          ]
        }
      ]
    },
    {
      "cell_type": "code",
      "source": [
        "print(\"recall Value: \", recall_score(Y_val, Y_pred))"
      ],
      "metadata": {
        "colab": {
          "base_uri": "https://localhost:8080/"
        },
        "id": "DaslKCMPCUQN",
        "outputId": "b1d26654-4bba-4827-ecf2-b622f46b95a9"
      },
      "execution_count": null,
      "outputs": [
        {
          "output_type": "stream",
          "name": "stdout",
          "text": [
            "recall Value:  1.0\n"
          ]
        }
      ]
    },
    {
      "cell_type": "code",
      "source": [
        "print(metrics.classification_report(Y_val,Y_pred))"
      ],
      "metadata": {
        "colab": {
          "base_uri": "https://localhost:8080/"
        },
        "id": "HRQIB_9oC2b_",
        "outputId": "80244891-1da0-4562-cf5d-fd6adf22c760"
      },
      "execution_count": null,
      "outputs": [
        {
          "output_type": "stream",
          "name": "stdout",
          "text": [
            "              precision    recall  f1-score   support\n",
            "\n",
            "           0       0.00      0.00      0.00      2560\n",
            "           1       0.88      1.00      0.94     18683\n",
            "\n",
            "    accuracy                           0.88     21243\n",
            "   macro avg       0.44      0.50      0.47     21243\n",
            "weighted avg       0.77      0.88      0.82     21243\n",
            "\n"
          ]
        },
        {
          "output_type": "stream",
          "name": "stderr",
          "text": [
            "/usr/local/lib/python3.7/dist-packages/sklearn/metrics/_classification.py:1318: UndefinedMetricWarning: Precision and F-score are ill-defined and being set to 0.0 in labels with no predicted samples. Use `zero_division` parameter to control this behavior.\n",
            "  _warn_prf(average, modifier, msg_start, len(result))\n",
            "/usr/local/lib/python3.7/dist-packages/sklearn/metrics/_classification.py:1318: UndefinedMetricWarning: Precision and F-score are ill-defined and being set to 0.0 in labels with no predicted samples. Use `zero_division` parameter to control this behavior.\n",
            "  _warn_prf(average, modifier, msg_start, len(result))\n",
            "/usr/local/lib/python3.7/dist-packages/sklearn/metrics/_classification.py:1318: UndefinedMetricWarning: Precision and F-score are ill-defined and being set to 0.0 in labels with no predicted samples. Use `zero_division` parameter to control this behavior.\n",
            "  _warn_prf(average, modifier, msg_start, len(result))\n"
          ]
        }
      ]
    },
    {
      "cell_type": "code",
      "source": [
        "print(metrics.confusion_matrix(Y_val,Y_pred))"
      ],
      "metadata": {
        "colab": {
          "base_uri": "https://localhost:8080/"
        },
        "id": "zcYPAUFWDA8l",
        "outputId": "d1be0e19-78b9-440b-bdfe-457920eb74e3"
      },
      "execution_count": null,
      "outputs": [
        {
          "output_type": "stream",
          "name": "stdout",
          "text": [
            "[[    0  2560]\n",
            " [    0 18683]]\n"
          ]
        }
      ]
    }
  ]
}